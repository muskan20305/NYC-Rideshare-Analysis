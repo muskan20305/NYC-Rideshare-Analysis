{
 "cells": [
  {
   "cell_type": "code",
   "execution_count": null,
   "id": "be6a08ac-7959-4bcf-8608-4d4e49ad85e0",
   "metadata": {},
   "outputs": [],
   "source": [
    "import pandas as pd\n",
    "import matplotlib.pyplot as plt\n",
    "\n",
    "# Load your CSV data into a Pandas DataFrame\n",
    "df = pd.read_csv('teaching_material/ECS765P/average_waiting_time_corrected.csv')\n",
    "\n",
    "# Assuming the CSV has columns 'day' for the day of January and 'average_waiting_time' for the waiting times\n",
    "# If the column names are different, replace 'day' and 'average_waiting_time' with your actual column names\n",
    "\n",
    "# Plot the histogram\n",
    "plt.figure(figsize=(15, 7))\n",
    "plt.bar(df['day'], df['average_waiting_time'], color='skyblue')\n",
    "plt.xlabel('Day in January')\n",
    "plt.ylabel('Average Waiting Time (seconds)')\n",
    "plt.title('Histogram of Average Waiting Time in January')\n",
    "plt.xticks(df['day'])\n",
    "plt.show()\n"
   ]
  },
  {
   "cell_type": "code",
   "execution_count": null,
   "id": "1a64f984-faec-4102-b524-e70ee7418899",
   "metadata": {},
   "outputs": [],
   "source": []
  }
 ],
 "metadata": {
  "kernelspec": {
   "display_name": "Python 3 (ipykernel)",
   "language": "python",
   "name": "python3"
  },
  "language_info": {
   "codemirror_mode": {
    "name": "ipython",
    "version": 3
   },
   "file_extension": ".py",
   "mimetype": "text/x-python",
   "name": "python",
   "nbconvert_exporter": "python",
   "pygments_lexer": "ipython3",
   "version": "3.10.13"
  }
 },
 "nbformat": 4,
 "nbformat_minor": 5
}
